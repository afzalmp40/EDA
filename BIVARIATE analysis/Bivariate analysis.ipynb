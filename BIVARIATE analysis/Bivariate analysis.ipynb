{
 "cells": [
  {
   "cell_type": "markdown",
   "id": "697a1bfa-e01f-4c76-b558-92334d3dbc5c",
   "metadata": {},
   "source": [
    "    Module made for quick BIVARIATE analysis.\n",
    "\n",
    "    Available functions:\n",
    "        Correlation:Plot correlation heatmap for a dataframe."
   ]
  },
  {
   "cell_type": "code",
   "execution_count": null,
   "id": "bc64000b-fdbc-437f-bb11-c1cf0a521e96",
   "metadata": {},
   "outputs": [],
   "source": [
    "import matplotlib.pyplot as plt\n",
    "import seaborn as sns\n",
    "\n",
    "def correlation(df, figsize=(15,10), dpi=100, annot=True):\n",
    "    '''\n",
    "    Plot correlation heatmap for a dataframe.\n",
    "    Includes both pearson and spearman correlation.\n",
    "    \n",
    "    Parameters:\n",
    "        df: a pandas dataframe\n",
    "        figsize: default(15,10) set figure size\n",
    "        dpi: default(100) set figure dpi\n",
    "        annot: default(True) display annotations {True, False} \n",
    "        \n",
    "    Returns:\n",
    "        None\n",
    "        \n",
    "    '''\n",
    "    fig , ax= plt.subplots(1,2, figsize=figsize, dpi=dpi)\n",
    "\n",
    "    pearson=df.corr()\n",
    "    ax[0].set_title('pearson')\n",
    "    sns.heatmap(pearson, cmap='YlGnBu', square=True, annot=annot, ax=ax[0])\n",
    "\n",
    "    spearman=df.corr(method='spearman')\n",
    "    ax[1].set_title('spearman')\n",
    "    sns.heatmap(spearman, cmap='YlGnBu', square=True, annot=annot, ax=ax[1])\n",
    "\n",
    "    plt.show()"
   ]
  }
 ],
 "metadata": {
  "kernelspec": {
   "display_name": "Python 3 (ipykernel)",
   "language": "python",
   "name": "python3"
  },
  "language_info": {
   "codemirror_mode": {
    "name": "ipython",
    "version": 3
   },
   "file_extension": ".py",
   "mimetype": "text/x-python",
   "name": "python",
   "nbconvert_exporter": "python",
   "pygments_lexer": "ipython3",
   "version": "3.10.0"
  }
 },
 "nbformat": 4,
 "nbformat_minor": 5
}
